{
 "cells": [
  {
   "cell_type": "markdown",
   "metadata": {},
   "source": [
    "Question - 1"
   ]
  },
  {
   "cell_type": "code",
   "execution_count": 16,
   "metadata": {},
   "outputs": [
    {
     "ename": "ModuleNotFoundError",
     "evalue": "No module named 'nltk'",
     "output_type": "error",
     "traceback": [
      "\u001b[1;31m---------------------------------------------------------------------------\u001b[0m",
      "\u001b[1;31mModuleNotFoundError\u001b[0m                       Traceback (most recent call last)",
      "\u001b[1;32mi:\\VS Code\\Prob Lab\\Lab-11_4.ipynb Cell 2\u001b[0m in \u001b[0;36m<cell line: 3>\u001b[1;34m()\u001b[0m\n\u001b[0;32m      <a href='vscode-notebook-cell:/i%3A/VS%20Code/Prob%20Lab/Lab-11_4.ipynb#W2sZmlsZQ%3D%3D?line=0'>1</a>\u001b[0m \u001b[39mimport\u001b[39;00m \u001b[39mnumpy\u001b[39;00m \u001b[39mas\u001b[39;00m \u001b[39mnp\u001b[39;00m \n\u001b[0;32m      <a href='vscode-notebook-cell:/i%3A/VS%20Code/Prob%20Lab/Lab-11_4.ipynb#W2sZmlsZQ%3D%3D?line=1'>2</a>\u001b[0m \u001b[39mimport\u001b[39;00m \u001b[39mpandas\u001b[39;00m \u001b[39mas\u001b[39;00m \u001b[39mpd\u001b[39;00m\n\u001b[1;32m----> <a href='vscode-notebook-cell:/i%3A/VS%20Code/Prob%20Lab/Lab-11_4.ipynb#W2sZmlsZQ%3D%3D?line=2'>3</a>\u001b[0m \u001b[39mimport\u001b[39;00m \u001b[39mnltk\u001b[39;00m\n\u001b[0;32m      <a href='vscode-notebook-cell:/i%3A/VS%20Code/Prob%20Lab/Lab-11_4.ipynb#W2sZmlsZQ%3D%3D?line=3'>4</a>\u001b[0m \u001b[39mfrom\u001b[39;00m \u001b[39mcollections\u001b[39;00m \u001b[39mimport\u001b[39;00m defaultdict\n\u001b[0;32m      <a href='vscode-notebook-cell:/i%3A/VS%20Code/Prob%20Lab/Lab-11_4.ipynb#W2sZmlsZQ%3D%3D?line=4'>5</a>\u001b[0m \u001b[39mfrom\u001b[39;00m \u001b[39mnltk\u001b[39;00m\u001b[39m.\u001b[39;00m\u001b[39mcorpus\u001b[39;00m \u001b[39mimport\u001b[39;00m stopwords\n",
      "\u001b[1;31mModuleNotFoundError\u001b[0m: No module named 'nltk'"
     ]
    }
   ],
   "source": [
    "import numpy as np \n",
    "import pandas as pd\n",
    "import nltk\n",
    "from collections import defaultdict\n",
    "from nltk.corpus import stopwords\n",
    "from nltk.tokenize import word_tokenize\n",
    "from nltk.stem import WordNetLemmatizer\n",
    "from nltk.stem import PorterStemmer\n",
    "from nltk.tokenize import sent_tokenize\n",
    "from nltk.tokenize import RegexpTokenizer\n",
    "\n",
    "nltk.download('punkt')\n",
    "nltk.download('stopwords')\n",
    "nltk.download('wordnet')\n",
    "nltk.download('omw-1.4')\n",
    "\n",
    "text = [\"India is the land of a different variety of religions and castes with its own features and attributes. Indians believe that they are fortunate to have rich traditions and culture. It is believed that Indian cultures are from ancient times. India has been deeply attached to its roots of the old cultures. The advancement in India can be seen in medicine, mathematics, science, technology, architecture, and many more. India is a huge combination having 29 states and seven union territories across all the four directions. India is the only country where Islam, Buddhism, Hinduism, Sikhism, Christianity and many other religions exist. Every religion in India has its own tradition and festival- for example, Holi, Diwali, Eid, guru Parav, Christmas, and many more. India is rich in traditional aspects by saying Namaste or Namaskar to greet anybody. Also, touching feet of elders is one of the Indian cultures in greeting. The food and eating habits of India changes from state to state in India. However, India has its own specific food style and eating style.\"]\n",
    "\n",
    "# split the text into sentences using .split() method\n",
    "sentences = []\n",
    "for i in text:\n",
    "    sentences.append(i.split(\".\"))\n",
    "    \n",
    "# flatten the list of lists\n",
    "sentences = [item for sublist in sentences for item in sublist]\n",
    "\n",
    "# remove empty strings\n",
    "sentences = [x for x in sentences if x != '']\n",
    "\n",
    "# remove extra spaces\n",
    "sentences = [x.strip() for x in sentences]\n",
    "\n",
    "# convert to lower case\n",
    "sentences = [x.lower() for x in sentences]\n",
    "\n",
    "# remove stopwords\n",
    "\n",
    "stop_words = set(stopwords.words('english'))\n",
    "filtered_sentences = []\n",
    "for i in sentences:\n",
    "    word_tokens = word_tokenize(i)\n",
    "    filtered_sentence = [w for w in word_tokens if not w in stop_words]\n",
    "    filtered_sentences.append(filtered_sentence)\n",
    "    \n",
    "# lemmatize the words\n",
    "lemmatizer = WordNetLemmatizer()\n",
    "lemmatized_sentences = []\n",
    "for i in filtered_sentences:\n",
    "    lemmatized_sentence = [lemmatizer.lemmatize(w) for w in i]\n",
    "    lemmatized_sentences.append(lemmatized_sentence)\n",
    "\n",
    "# stem the words\n",
    "stemmer = PorterStemmer()\n",
    "stemmed_sentences = []\n",
    "for i in lemmatized_sentences:\n",
    "    stemmed_sentence = [stemmer.stem(w) for w in i]\n",
    "    stemmed_sentences.append(stemmed_sentence)\n",
    "\n",
    "# remove punctuation\n",
    "tokenizer = RegexpTokenizer(r'\\w+')\n",
    "tokenized_sentences = []\n",
    "for i in stemmed_sentences:\n",
    "    tokenized_sentence = tokenizer.tokenize(' '.join(i))\n",
    "    tokenized_sentences.append(tokenized_sentence)\n",
    "\n",
    "# create a dictionary of words and their frequencies\n",
    "word_freq = {}\n",
    "for i in tokenized_sentences:\n",
    "    for token in i:\n",
    "        if token not in word_freq.keys():\n",
    "            word_freq[token] = 1\n",
    "        else:\n",
    "            word_freq[token] += 1\n",
    "\n",
    "# find the maximum frequency\n",
    "max_freq = max(word_freq.values())\n",
    "\n",
    "# divide each frequency by the maximum frequency\n",
    "for word in word_freq.keys():\n",
    "    word_freq[word] = (word_freq[word]/max_freq)\n",
    "    \n",
    "# calculate sentence scores\n",
    "sentence_scores = defaultdict(int)\n",
    "for sent in tokenized_sentences:\n",
    "    for word in sent:\n",
    "        if len(sent) < 30:\n",
    "            if word not in sentence_scores.keys():\n",
    "                sentence_scores[word] = word_freq[word]\n",
    "            else:\n",
    "                sentence_scores[word] += word_freq[word]\n",
    "\n",
    "# find the 5 sentences with the highest scores\n",
    "import heapq\n",
    "summary_sentences = heapq.nlargest(5, sentence_scores, key=sentence_scores.get)\n",
    "\n",
    "# print the summary\n",
    "summary = ' '.join(summary_sentences)\n",
    "\n",
    "print(summary)"
   ]
  },
  {
   "cell_type": "markdown",
   "metadata": {},
   "source": [
    "Question - 2"
   ]
  },
  {
   "cell_type": "code",
   "execution_count": 15,
   "metadata": {},
   "outputs": [
    {
     "data": {
      "image/png": "[encoded data removed]",
      "text/plain": [
       "<Figure size 640x480 with 1 Axes>"
      ]
     },
     "metadata": {},
     "output_type": "display_data"
    }
   ],
   "source": [
    "import numpy as np\n",
    "import matplotlib.pyplot as plt\n",
    "import random\n",
    "\n",
    "seed = (60)\n",
    "\n",
    "def toss_coin():\n",
    "    np.random.seed(seed)\n",
    "    toss = []\n",
    "    for i in range(1200):\n",
    "        toss.append(random.randint(0,1))\n",
    "    return toss\n",
    "\n",
    "def plot_prob():\n",
    "    np.random.seed(seed)\n",
    "    toss = toss_coin()\n",
    "    prob = []\n",
    "    for i in range(1,1201):\n",
    "        prob.append(sum(toss[:i])/i)\n",
    "    plt.plot(range(1,1201),prob)\n",
    "    plt.xlabel('Number of Flips')\n",
    "    plt.ylabel('Probability of getting a head')\n",
    "    plt.show()\n",
    "\n",
    "plot_prob()"
   ]
  },
  {
   "cell_type": "markdown",
   "metadata": {},
   "source": [
    "Question - 3"
   ]
  },
  {
   "cell_type": "code",
   "execution_count": null,
   "metadata": {},
   "outputs": [],
   "source": []
  }
 ],
 "metadata": {
  "kernelspec": {
   "display_name": "Python 3.9.7 64-bit",
   "language": "python",
   "name": "python3"
  },
  "language_info": {
   "codemirror_mode": {
    "name": "ipython",
    "version": 3
   },
   "file_extension": ".py",
   "mimetype": "text/x-python",
   "name": "python",
   "nbconvert_exporter": "python",
   "pygments_lexer": "ipython3",
   "version": "3.9.7"
  },
  "orig_nbformat": 4,
  "vscode": {
   "interpreter": {
    "hash": "44a953c83ea2d0f291edaf8c4d78ef2ec3d49c28bd24f264eb49c3e7bd477ff7"
   }
  }
 },
 "nbformat": 4,
 "nbformat_minor": 2
}
