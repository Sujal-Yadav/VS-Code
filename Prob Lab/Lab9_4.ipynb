{
 "cells": [
  {
   "cell_type": "markdown",
   "metadata": {},
   "source": [
    "Question - 1"
   ]
  },
  {
   "cell_type": "code",
   "execution_count": 15,
   "metadata": {},
   "outputs": [
    {
     "name": "stdout",
     "output_type": "stream",
     "text": [
      "('Z-Score for ', 'Indore', ': ', -0.41)\n",
      "('Z-Score for ', 'Delhi', ': ', -0.31)\n",
      "('Z-Score for ', 'Mumbai', ': ', -0.74)\n",
      "('Z-Score for ', 'Hyderabad', ': ', -1.4)\n",
      "('Z-Score for ', 'Kolkata', ': ', 0.8)\n",
      "Kolkata performed Best\n"
     ]
    }
   ],
   "source": [
    "# SUJAL YADAV\n",
    "# E21CSEU0636\n",
    "A = [80, 81, 75, 62, 86]\n",
    "B = [89, 85, 89, 76, 70]\n",
    "C = [22, 13, 19, 10, 20]\n",
    "D = [\"Indore\", \"Delhi\", \"Mumbai\", \"Hyderabad\", \"Kolkata\"]\n",
    "E = []\n",
    "for i in range(5):\n",
    "    z = (A[i] - B[i]) / C[i]\n",
    "    y = \"Z-Score for \", D[i], \": \", round(z, 2)\n",
    "    print(y)\n",
    "    E.append(z)\n",
    "b = max(E)\n",
    "c = E.index(b)\n",
    "print(D[c], \"performed Best\")"
   ]
  },
  {
   "cell_type": "markdown",
   "metadata": {},
   "source": [
    "Question - 1"
   ]
  },
  {
   "cell_type": "code",
   "execution_count": 16,
   "metadata": {},
   "outputs": [
    {
     "name": "stdout",
     "output_type": "stream",
     "text": [
      "('Z-Score for ', 'Indore', ': ', -1.32)\n",
      "('Z-Score for ', 'Delhi', ': ', -1.92)\n",
      "('Z-Score for ', 'Mumbai', ': ', -1.53)\n",
      "('Z-Score for ', 'Hyderabad', ': ', -1.6)\n",
      "('Z-Score for ', 'Kolkata', ': ', -0.5)\n",
      "Kolkata performed Best\n"
     ]
    }
   ],
   "source": [
    "# SUJAL YADAV\n",
    "# E21CSEU0636\n",
    "A = [60, 60, 60, 60, 60]\n",
    "B = [89, 85, 89, 76, 70]\n",
    "C = [22, 13, 19, 10, 20]\n",
    "D = [\"Indore\", \"Delhi\", \"Mumbai\", \"Hyderabad\", \"Kolkata\"]\n",
    "E = []\n",
    "for i in range(5):\n",
    "    z = (A[i] - B[i]) / C[i]\n",
    "    y = \"Z-Score for \", D[i], \": \", round(z, 2)\n",
    "    print(y)\n",
    "    E.append(z)\n",
    "b = max(E)\n",
    "c = E.index(b)\n",
    "print(D[c], \"performed Best\")\n"
   ]
  },
  {
   "cell_type": "markdown",
   "metadata": {},
   "source": [
    "Question - 2"
   ]
  },
  {
   "cell_type": "code",
   "execution_count": 33,
   "metadata": {},
   "outputs": [
    {
     "name": "stdout",
     "output_type": "stream",
     "text": [
      "2.5264\n",
      "2.55\n"
     ]
    },
    {
     "ename": "AttributeError",
     "evalue": "module 'matplotlib' has no attribute 'plot'",
     "output_type": "error",
     "traceback": [
      "\u001b[1;31m---------------------------------------------------------------------------\u001b[0m",
      "\u001b[1;31mAttributeError\u001b[0m                            Traceback (most recent call last)",
      "\u001b[1;32mi:\\VS Code\\Prob Lab\\Lab9_4.ipynb Cell 6\u001b[0m in \u001b[0;36m<cell line: 38>\u001b[1;34m()\u001b[0m\n\u001b[0;32m     <a href='vscode-notebook-cell:/i%3A/VS%20Code/Prob%20Lab/Lab9_4.ipynb#W2sZmlsZQ%3D%3D?line=35'>36</a>\u001b[0m f \u001b[39m=\u001b[39m \u001b[39msum\u001b[39m(arr1) \n\u001b[0;32m     <a href='vscode-notebook-cell:/i%3A/VS%20Code/Prob%20Lab/Lab9_4.ipynb#W2sZmlsZQ%3D%3D?line=36'>37</a>\u001b[0m \u001b[39mprint\u001b[39m(f)\n\u001b[1;32m---> <a href='vscode-notebook-cell:/i%3A/VS%20Code/Prob%20Lab/Lab9_4.ipynb#W2sZmlsZQ%3D%3D?line=37'>38</a>\u001b[0m mp\u001b[39m.\u001b[39;49mplot(arr)\n",
      "File \u001b[1;32mc:\\Users\\Sujal-Yadav\\AppData\\Local\\Programs\\Python\\Python39\\lib\\site-packages\\matplotlib\\_api\\__init__.py:222\u001b[0m, in \u001b[0;36mcaching_module_getattr.<locals>.__getattr__\u001b[1;34m(name)\u001b[0m\n\u001b[0;32m    220\u001b[0m \u001b[39mif\u001b[39;00m name \u001b[39min\u001b[39;00m props:\n\u001b[0;32m    221\u001b[0m     \u001b[39mreturn\u001b[39;00m props[name]\u001b[39m.\u001b[39m\u001b[39m__get__\u001b[39m(instance)\n\u001b[1;32m--> 222\u001b[0m \u001b[39mraise\u001b[39;00m \u001b[39mAttributeError\u001b[39;00m(\n\u001b[0;32m    223\u001b[0m     \u001b[39mf\u001b[39m\u001b[39m\"\u001b[39m\u001b[39mmodule \u001b[39m\u001b[39m{\u001b[39;00m\u001b[39mcls\u001b[39m\u001b[39m.\u001b[39m\u001b[39m__module__\u001b[39m\u001b[39m!r}\u001b[39;00m\u001b[39m has no attribute \u001b[39m\u001b[39m{\u001b[39;00mname\u001b[39m!r}\u001b[39;00m\u001b[39m\"\u001b[39m)\n",
      "\u001b[1;31mAttributeError\u001b[0m: module 'matplotlib' has no attribute 'plot'"
     ]
    }
   ],
   "source": [
    "# Sujal Yadav\n",
    "# E21CSEU0636\n",
    "from statistics import mean\n",
    "import numpy as np\n",
    "import random\n",
    "\n",
    "h = [1, 2, 3, 4, 5, 6]\n",
    "Px = [0.2, 0.5, 0.1, 0.05, 0.05, 0.1]\n",
    "np.random.seed(100)\n",
    "\n",
    "arr = []\n",
    "for i in range(50):\n",
    "    x = np.random.rand(100)\n",
    "    sam = []\n",
    "    for j in x:\n",
    "        if(0 <= j < 0.2):\n",
    "            sam.append(1)\n",
    "        elif(0.2 <= j < 0.7):\n",
    "            sam.append(2)\n",
    "        elif(0.7 <= j < 0.8):\n",
    "            sam.append(3)\n",
    "        elif(0.8 <= j < 0.85):\n",
    "            sam.append(4)\n",
    "        elif(0.85 <= j < 0.9):\n",
    "            sam.append(5)\n",
    "        elif(0.9 <= j < 1):\n",
    "            sam.append(6)\n",
    "    c = sum(sam) / len(sam)\n",
    "    arr.append(c)\n",
    "d = sum(arr) / len(arr)\n",
    "print(round(d, 4))\n",
    "arr1 = []\n",
    "for i in range(6):\n",
    "    e = h[i] * Px[i]\n",
    "    arr1.append(e)\n",
    "f = sum(arr1) \n",
    "print(f)\n",
    "\n",
    "\n"
   ]
  },
  {
   "cell_type": "code",
   "execution_count": null,
   "metadata": {},
   "outputs": [],
   "source": [
    "import pyautogui\n",
    "pyautogui.hotkey('Ctrl','c')\n"
   ]
  },
  {
   "cell_type": "markdown",
   "metadata": {},
   "source": []
  }
 ],
 "metadata": {
  "kernelspec": {
   "display_name": "Python 3.9.7 64-bit",
   "language": "python",
   "name": "python3"
  },
  "language_info": {
   "codemirror_mode": {
    "name": "ipython",
    "version": 3
   },
   "file_extension": ".py",
   "mimetype": "text/x-python",
   "name": "python",
   "nbconvert_exporter": "python",
   "pygments_lexer": "ipython3",
   "version": "3.9.7"
  },
  "orig_nbformat": 4,
  "vscode": {
   "interpreter": {
    "hash": "44a953c83ea2d0f291edaf8c4d78ef2ec3d49c28bd24f264eb49c3e7bd477ff7"
   }
  }
 },
 "nbformat": 4,
 "nbformat_minor": 2
}
