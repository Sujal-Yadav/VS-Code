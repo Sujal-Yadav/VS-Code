{
 "cells": [
  {
   "cell_type": "code",
   "execution_count": 56,
   "metadata": {},
   "outputs": [
    {
     "name": "stdout",
     "output_type": "stream",
     "text": [
      "8.5919929212605\n",
      "[6.265611611156759, 5.820134339009234, 4.943321930337914]\n",
      "[10.918374231364242, 11.363851503511766, 12.240663912183086]\n",
      "[58.432456682570034, 58.43164672389341, 58.430052519514]\n",
      "[58.44091625097042, 58.441726209647044, 58.44332041402645]\n",
      "[58.431399236519994, 58.430386788174204, 58.42839403269995]\n",
      "[58.44197369702046, 58.44298614536625, 58.4449789008405]\n"
     ]
    }
   ],
   "source": [
    "import numpy as np\n",
    "import random\n",
    "import math\n",
    "\n",
    "np.random.seed(100)\n",
    "x = np.random.normal(9, 10, 50)\n",
    "xbar = np.mean(x)\n",
    "# print(x)\n",
    "print(xbar)\n",
    "arr = [1.645, 1.96, 2.58]\n",
    "arr1 = []\n",
    "arr4 = []\n",
    "for i in range(3):\n",
    "    ans = xbar + ((arr[i] * 10)/math.sqrt(50))\n",
    "    ans4 = xbar - ((arr[i] * 10)/math.sqrt(50))\n",
    "    arr1.append(ans)\n",
    "    arr4.append(ans4)\n",
    "print(arr4)\n",
    "print(arr1)\n",
    "\n",
    "\n",
    "arr2 = []\n",
    "arr5 = []\n",
    "beta = 1/55\n",
    "y = np.random.exponential(scale = 55, size=50)\n",
    "ybar = np.mean(y)\n",
    "for i in range(3):\n",
    "    ans2 = ybar + ((arr[i] * beta)/math.sqrt(50))\n",
    "    ans5 = ybar - ((arr[i] * beta)/math.sqrt(50))\n",
    "    arr2.append(ans2)\n",
    "    arr5.append(ans5)\n",
    "print(arr5)\n",
    "print(arr2)\n",
    "\n",
    "\n",
    "arr3 = []\n",
    "arr6 = []\n",
    "beta2 = 1/44\n",
    "z = np.random.poisson(lam = 44, size=50)\n",
    "zbar = np.mean(y)\n",
    "for i in range(3):\n",
    "    ans3 = zbar + ((arr[i] * beta2)/math.sqrt(50))\n",
    "    ans6 = zbar - ((arr[i] * beta2)/math.sqrt(50))\n",
    "    arr3.append(ans3)\n",
    "    arr6.append(ans6)\n",
    "\n",
    "print(arr6)\n",
    "print(arr3)\n",
    "\n",
    "\n"
   ]
  },
  {
   "cell_type": "code",
   "execution_count": 59,
   "metadata": {},
   "outputs": [
    {
     "name": "stdout",
     "output_type": "stream",
     "text": [
      "[-252.46482096   61.4020605   182.95537038  -27.86540548  157.19811804\n",
      "   87.13282621   43.17695038 -150.50649959  -18.42437462   48.25021664\n",
      "  -58.70404783   75.27452322  -77.53925755  132.52706075  110.90812086\n",
      "   -5.66167151  -69.69205653  164.45990277  -55.72034341 -157.74773694\n",
      "  252.8472491   241.24077618  -27.78187088 -116.36536074   37.67780358\n",
      "  150.56233017  119.65005158  214.23341877  -38.93570888   18.35140223\n",
      "   43.35994128 -206.48254928 -103.45284584  132.46810165  122.56671423\n",
      "  -58.39203912  188.4433402  -243.59252396 -193.45985733 -174.86517709\n",
      "  -71.66587425  -90.22576052   11.09718448  -81.94081032  204.96221121\n",
      " -249.96434355 -137.49651487   63.62616298 -232.03677542  230.60707999\n",
      " -168.2026396   -72.46192903 -131.00692423 -114.18985465   26.32952018\n",
      "   86.17143857 -119.33410198  197.42046141   -1.94168689 -123.45972219\n",
      " -122.26975842   12.79584242   45.67669329   12.03228229 -235.32940991\n",
      " -146.63148166  101.95583225  120.430782    164.03821591 -204.82859166\n",
      " -266.17824503   64.91398393  -39.76657026  -93.38269671  315.19113423\n",
      "  -72.60716179  122.56799955 -186.04885086   97.08600037 -155.6784639\n",
      "  113.51822053  113.03350992 -225.00312944  145.74611822  126.8233599\n",
      "   74.23493059   26.33079848   14.24254522  -76.82387372 -169.91767988\n",
      " -245.89280086   65.37459357  291.48601404  -46.53550253  284.79041227\n",
      "   10.4526151    -1.40351986   10.5936391   -17.75211663 -363.07273028]\n",
      "-5.624878076609602\n",
      "-1.04165853844064\n"
     ]
    }
   ],
   "source": [
    "import numpy as np\n",
    "import random\n",
    "import math\n",
    "\n",
    "np.random.seed(100)\n",
    "x = np.random.normal(10, 150, 100)\n",
    "xbar = np.mean(x)\n",
    "ans = (xbar - 10)/(150/math.sqrt(100))\n",
    "print(x)\n",
    "print(xbar)\n",
    "print(ans)"
   ]
  }
 ],
 "metadata": {
  "kernelspec": {
   "display_name": "Python 3.9.7 64-bit",
   "language": "python",
   "name": "python3"
  },
  "language_info": {
   "codemirror_mode": {
    "name": "ipython",
    "version": 3
   },
   "file_extension": ".py",
   "mimetype": "text/x-python",
   "name": "python",
   "nbconvert_exporter": "python",
   "pygments_lexer": "ipython3",
   "version": "3.9.7"
  },
  "orig_nbformat": 4,
  "vscode": {
   "interpreter": {
    "hash": "44a953c83ea2d0f291edaf8c4d78ef2ec3d49c28bd24f264eb49c3e7bd477ff7"
   }
  }
 },
 "nbformat": 4,
 "nbformat_minor": 2
}
